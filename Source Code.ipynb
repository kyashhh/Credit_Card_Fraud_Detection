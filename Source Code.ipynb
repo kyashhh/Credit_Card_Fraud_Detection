{
 "cells": [
  {
   "cell_type": "markdown",
   "id": "0a770ca2",
   "metadata": {},
   "source": [
    "# CREDIT CARD FRAUD DETECTION"
   ]
  },
  {
   "cell_type": "code",
   "execution_count": 1,
   "id": "021d28d4",
   "metadata": {},
   "outputs": [],
   "source": [
    "import numpy as np\n",
    "import pandas as pd\n",
    "import tensorflow as tf\n",
    "from sklearn.metrics import accuracy_score\n",
    "from sklearn.neighbors import KNeighborsClassifier\n",
    "from sklearn.svm import SVC\n",
    "from sklearn.naive_bayes import GaussianNB\n",
    "import seaborn as sns\n",
    "import matplotlib.pyplot as plt\n",
    "from xgboost import XGBClassifier\n",
    "from sklearn.metrics import confusion_matrix, classification_report\n",
    "from sklearn.metrics import precision_score, recall_score, f1_score\n",
    "from sklearn.ensemble import StackingClassifier\n",
    "from sklearn.linear_model import LogisticRegression\n",
    "from termcolor import colored as cl\n",
    "from sklearn.tree import DecisionTreeClassifier\n",
    "from sklearn.ensemble import RandomForestClassifier"
   ]
  },
  {
   "cell_type": "code",
   "execution_count": 2,
   "id": "9584b817",
   "metadata": {},
   "outputs": [],
   "source": [
    "data = pd.read_csv(\"creditcard.csv\")"
   ]
  },
  {
   "cell_type": "code",
   "execution_count": 3,
   "id": "e58276bd",
   "metadata": {},
   "outputs": [
    {
     "data": {
      "text/html": [
       "<div>\n",
       "<style scoped>\n",
       "    .dataframe tbody tr th:only-of-type {\n",
       "        vertical-align: middle;\n",
       "    }\n",
       "\n",
       "    .dataframe tbody tr th {\n",
       "        vertical-align: top;\n",
       "    }\n",
       "\n",
       "    .dataframe thead th {\n",
       "        text-align: right;\n",
       "    }\n",
       "</style>\n",
       "<table border=\"1\" class=\"dataframe\">\n",
       "  <thead>\n",
       "    <tr style=\"text-align: right;\">\n",
       "      <th></th>\n",
       "      <th>Time</th>\n",
       "      <th>V1</th>\n",
       "      <th>V2</th>\n",
       "      <th>V3</th>\n",
       "      <th>V4</th>\n",
       "      <th>V5</th>\n",
       "      <th>V6</th>\n",
       "      <th>V7</th>\n",
       "      <th>V8</th>\n",
       "      <th>V9</th>\n",
       "      <th>...</th>\n",
       "      <th>V21</th>\n",
       "      <th>V22</th>\n",
       "      <th>V23</th>\n",
       "      <th>V24</th>\n",
       "      <th>V25</th>\n",
       "      <th>V26</th>\n",
       "      <th>V27</th>\n",
       "      <th>V28</th>\n",
       "      <th>Amount</th>\n",
       "      <th>Class</th>\n",
       "    </tr>\n",
       "  </thead>\n",
       "  <tbody>\n",
       "    <tr>\n",
       "      <th>0</th>\n",
       "      <td>0.0</td>\n",
       "      <td>-1.359807</td>\n",
       "      <td>-0.072781</td>\n",
       "      <td>2.536347</td>\n",
       "      <td>1.378155</td>\n",
       "      <td>-0.338321</td>\n",
       "      <td>0.462388</td>\n",
       "      <td>0.239599</td>\n",
       "      <td>0.098698</td>\n",
       "      <td>0.363787</td>\n",
       "      <td>...</td>\n",
       "      <td>-0.018307</td>\n",
       "      <td>0.277838</td>\n",
       "      <td>-0.110474</td>\n",
       "      <td>0.066928</td>\n",
       "      <td>0.128539</td>\n",
       "      <td>-0.189115</td>\n",
       "      <td>0.133558</td>\n",
       "      <td>-0.021053</td>\n",
       "      <td>149.62</td>\n",
       "      <td>0</td>\n",
       "    </tr>\n",
       "    <tr>\n",
       "      <th>1</th>\n",
       "      <td>0.0</td>\n",
       "      <td>1.191857</td>\n",
       "      <td>0.266151</td>\n",
       "      <td>0.166480</td>\n",
       "      <td>0.448154</td>\n",
       "      <td>0.060018</td>\n",
       "      <td>-0.082361</td>\n",
       "      <td>-0.078803</td>\n",
       "      <td>0.085102</td>\n",
       "      <td>-0.255425</td>\n",
       "      <td>...</td>\n",
       "      <td>-0.225775</td>\n",
       "      <td>-0.638672</td>\n",
       "      <td>0.101288</td>\n",
       "      <td>-0.339846</td>\n",
       "      <td>0.167170</td>\n",
       "      <td>0.125895</td>\n",
       "      <td>-0.008983</td>\n",
       "      <td>0.014724</td>\n",
       "      <td>2.69</td>\n",
       "      <td>0</td>\n",
       "    </tr>\n",
       "    <tr>\n",
       "      <th>2</th>\n",
       "      <td>1.0</td>\n",
       "      <td>-1.358354</td>\n",
       "      <td>-1.340163</td>\n",
       "      <td>1.773209</td>\n",
       "      <td>0.379780</td>\n",
       "      <td>-0.503198</td>\n",
       "      <td>1.800499</td>\n",
       "      <td>0.791461</td>\n",
       "      <td>0.247676</td>\n",
       "      <td>-1.514654</td>\n",
       "      <td>...</td>\n",
       "      <td>0.247998</td>\n",
       "      <td>0.771679</td>\n",
       "      <td>0.909412</td>\n",
       "      <td>-0.689281</td>\n",
       "      <td>-0.327642</td>\n",
       "      <td>-0.139097</td>\n",
       "      <td>-0.055353</td>\n",
       "      <td>-0.059752</td>\n",
       "      <td>378.66</td>\n",
       "      <td>0</td>\n",
       "    </tr>\n",
       "    <tr>\n",
       "      <th>3</th>\n",
       "      <td>1.0</td>\n",
       "      <td>-0.966272</td>\n",
       "      <td>-0.185226</td>\n",
       "      <td>1.792993</td>\n",
       "      <td>-0.863291</td>\n",
       "      <td>-0.010309</td>\n",
       "      <td>1.247203</td>\n",
       "      <td>0.237609</td>\n",
       "      <td>0.377436</td>\n",
       "      <td>-1.387024</td>\n",
       "      <td>...</td>\n",
       "      <td>-0.108300</td>\n",
       "      <td>0.005274</td>\n",
       "      <td>-0.190321</td>\n",
       "      <td>-1.175575</td>\n",
       "      <td>0.647376</td>\n",
       "      <td>-0.221929</td>\n",
       "      <td>0.062723</td>\n",
       "      <td>0.061458</td>\n",
       "      <td>123.50</td>\n",
       "      <td>0</td>\n",
       "    </tr>\n",
       "    <tr>\n",
       "      <th>4</th>\n",
       "      <td>2.0</td>\n",
       "      <td>-1.158233</td>\n",
       "      <td>0.877737</td>\n",
       "      <td>1.548718</td>\n",
       "      <td>0.403034</td>\n",
       "      <td>-0.407193</td>\n",
       "      <td>0.095921</td>\n",
       "      <td>0.592941</td>\n",
       "      <td>-0.270533</td>\n",
       "      <td>0.817739</td>\n",
       "      <td>...</td>\n",
       "      <td>-0.009431</td>\n",
       "      <td>0.798278</td>\n",
       "      <td>-0.137458</td>\n",
       "      <td>0.141267</td>\n",
       "      <td>-0.206010</td>\n",
       "      <td>0.502292</td>\n",
       "      <td>0.219422</td>\n",
       "      <td>0.215153</td>\n",
       "      <td>69.99</td>\n",
       "      <td>0</td>\n",
       "    </tr>\n",
       "  </tbody>\n",
       "</table>\n",
       "<p>5 rows × 31 columns</p>\n",
       "</div>"
      ],
      "text/plain": [
       "   Time        V1        V2        V3        V4        V5        V6        V7  \\\n",
       "0   0.0 -1.359807 -0.072781  2.536347  1.378155 -0.338321  0.462388  0.239599   \n",
       "1   0.0  1.191857  0.266151  0.166480  0.448154  0.060018 -0.082361 -0.078803   \n",
       "2   1.0 -1.358354 -1.340163  1.773209  0.379780 -0.503198  1.800499  0.791461   \n",
       "3   1.0 -0.966272 -0.185226  1.792993 -0.863291 -0.010309  1.247203  0.237609   \n",
       "4   2.0 -1.158233  0.877737  1.548718  0.403034 -0.407193  0.095921  0.592941   \n",
       "\n",
       "         V8        V9  ...       V21       V22       V23       V24       V25  \\\n",
       "0  0.098698  0.363787  ... -0.018307  0.277838 -0.110474  0.066928  0.128539   \n",
       "1  0.085102 -0.255425  ... -0.225775 -0.638672  0.101288 -0.339846  0.167170   \n",
       "2  0.247676 -1.514654  ...  0.247998  0.771679  0.909412 -0.689281 -0.327642   \n",
       "3  0.377436 -1.387024  ... -0.108300  0.005274 -0.190321 -1.175575  0.647376   \n",
       "4 -0.270533  0.817739  ... -0.009431  0.798278 -0.137458  0.141267 -0.206010   \n",
       "\n",
       "        V26       V27       V28  Amount  Class  \n",
       "0 -0.189115  0.133558 -0.021053  149.62      0  \n",
       "1  0.125895 -0.008983  0.014724    2.69      0  \n",
       "2 -0.139097 -0.055353 -0.059752  378.66      0  \n",
       "3 -0.221929  0.062723  0.061458  123.50      0  \n",
       "4  0.502292  0.219422  0.215153   69.99      0  \n",
       "\n",
       "[5 rows x 31 columns]"
      ]
     },
     "execution_count": 3,
     "metadata": {},
     "output_type": "execute_result"
    }
   ],
   "source": [
    "data.head()"
   ]
  },
  {
   "cell_type": "code",
   "execution_count": 4,
   "id": "10fcb79f",
   "metadata": {},
   "outputs": [
    {
     "name": "stdout",
     "output_type": "stream",
     "text": [
      "\u001b[1mTotal number of Trnsactions are 284807\u001b[0m\n",
      "\u001b[1mNumber of Normal Transactions are 284315\u001b[0m\n",
      "\u001b[1mNumber of fraudulent Transactions are 492\u001b[0m\n",
      "\u001b[1mPercentage of fraud Transactions is 0.17\u001b[0m\n"
     ]
    }
   ],
   "source": [
    "Total_transactions = len(data)\n",
    "normal = len(data[data.Class == 0])\n",
    "fraudulent = len(data[data.Class == 1])\n",
    "fraud_percentage = round(fraudulent/normal*100, 2)\n",
    "print(cl('Total number of Trnsactions are {}'.format(Total_transactions), attrs = ['bold']))\n",
    "print(cl('Number of Normal Transactions are {}'.format(normal), attrs = ['bold']))\n",
    "print(cl('Number of fraudulent Transactions are {}'.format(fraudulent), attrs = ['bold']))\n",
    "print(cl('Percentage of fraud Transactions is {}'.format(fraud_percentage), attrs = ['bold']))"
   ]
  },
  {
   "cell_type": "code",
   "execution_count": 5,
   "id": "8930b28c",
   "metadata": {},
   "outputs": [
    {
     "name": "stdout",
     "output_type": "stream",
     "text": [
      "<class 'pandas.core.frame.DataFrame'>\n",
      "RangeIndex: 284807 entries, 0 to 284806\n",
      "Data columns (total 31 columns):\n",
      " #   Column  Non-Null Count   Dtype  \n",
      "---  ------  --------------   -----  \n",
      " 0   Time    284807 non-null  float64\n",
      " 1   V1      284807 non-null  float64\n",
      " 2   V2      284807 non-null  float64\n",
      " 3   V3      284807 non-null  float64\n",
      " 4   V4      284807 non-null  float64\n",
      " 5   V5      284807 non-null  float64\n",
      " 6   V6      284807 non-null  float64\n",
      " 7   V7      284807 non-null  float64\n",
      " 8   V8      284807 non-null  float64\n",
      " 9   V9      284807 non-null  float64\n",
      " 10  V10     284807 non-null  float64\n",
      " 11  V11     284807 non-null  float64\n",
      " 12  V12     284807 non-null  float64\n",
      " 13  V13     284807 non-null  float64\n",
      " 14  V14     284807 non-null  float64\n",
      " 15  V15     284807 non-null  float64\n",
      " 16  V16     284807 non-null  float64\n",
      " 17  V17     284807 non-null  float64\n",
      " 18  V18     284807 non-null  float64\n",
      " 19  V19     284807 non-null  float64\n",
      " 20  V20     284807 non-null  float64\n",
      " 21  V21     284807 non-null  float64\n",
      " 22  V22     284807 non-null  float64\n",
      " 23  V23     284807 non-null  float64\n",
      " 24  V24     284807 non-null  float64\n",
      " 25  V25     284807 non-null  float64\n",
      " 26  V26     284807 non-null  float64\n",
      " 27  V27     284807 non-null  float64\n",
      " 28  V28     284807 non-null  float64\n",
      " 29  Amount  284807 non-null  float64\n",
      " 30  Class   284807 non-null  int64  \n",
      "dtypes: float64(30), int64(1)\n",
      "memory usage: 67.4 MB\n"
     ]
    }
   ],
   "source": [
    "data.info()"
   ]
  },
  {
   "cell_type": "code",
   "execution_count": 6,
   "id": "1b4c648a",
   "metadata": {},
   "outputs": [
    {
     "data": {
      "text/plain": [
       "0    284315\n",
       "1       492\n",
       "Name: Class, dtype: int64"
      ]
     },
     "execution_count": 6,
     "metadata": {},
     "output_type": "execute_result"
    }
   ],
   "source": [
    "data['Class'].value_counts()"
   ]
  },
  {
   "cell_type": "code",
   "execution_count": 7,
   "id": "43edc16b",
   "metadata": {},
   "outputs": [],
   "source": [
    "legit=data[data.Class==0]\n",
    "fraud=data[data.Class==1]"
   ]
  },
  {
   "cell_type": "code",
   "execution_count": 8,
   "id": "1c832e52",
   "metadata": {},
   "outputs": [
    {
     "data": {
      "text/plain": [
       "count    284315.000000\n",
       "mean         88.291022\n",
       "std         250.105092\n",
       "min           0.000000\n",
       "25%           5.650000\n",
       "50%          22.000000\n",
       "75%          77.050000\n",
       "max       25691.160000\n",
       "Name: Amount, dtype: float64"
      ]
     },
     "execution_count": 8,
     "metadata": {},
     "output_type": "execute_result"
    }
   ],
   "source": [
    "legit.Amount.describe()"
   ]
  },
  {
   "cell_type": "code",
   "execution_count": 9,
   "id": "9a504aa4",
   "metadata": {},
   "outputs": [
    {
     "data": {
      "text/plain": [
       "count     492.000000\n",
       "mean      122.211321\n",
       "std       256.683288\n",
       "min         0.000000\n",
       "25%         1.000000\n",
       "50%         9.250000\n",
       "75%       105.890000\n",
       "max      2125.870000\n",
       "Name: Amount, dtype: float64"
      ]
     },
     "execution_count": 9,
     "metadata": {},
     "output_type": "execute_result"
    }
   ],
   "source": [
    "fraud.Amount.describe()"
   ]
  },
  {
   "cell_type": "code",
   "execution_count": 10,
   "id": "a7332233",
   "metadata": {},
   "outputs": [
    {
     "data": {
      "text/html": [
       "<div>\n",
       "<style scoped>\n",
       "    .dataframe tbody tr th:only-of-type {\n",
       "        vertical-align: middle;\n",
       "    }\n",
       "\n",
       "    .dataframe tbody tr th {\n",
       "        vertical-align: top;\n",
       "    }\n",
       "\n",
       "    .dataframe thead th {\n",
       "        text-align: right;\n",
       "    }\n",
       "</style>\n",
       "<table border=\"1\" class=\"dataframe\">\n",
       "  <thead>\n",
       "    <tr style=\"text-align: right;\">\n",
       "      <th></th>\n",
       "      <th>Time</th>\n",
       "      <th>V1</th>\n",
       "      <th>V2</th>\n",
       "      <th>V3</th>\n",
       "      <th>V4</th>\n",
       "      <th>V5</th>\n",
       "      <th>V6</th>\n",
       "      <th>V7</th>\n",
       "      <th>V8</th>\n",
       "      <th>V9</th>\n",
       "      <th>...</th>\n",
       "      <th>V20</th>\n",
       "      <th>V21</th>\n",
       "      <th>V22</th>\n",
       "      <th>V23</th>\n",
       "      <th>V24</th>\n",
       "      <th>V25</th>\n",
       "      <th>V26</th>\n",
       "      <th>V27</th>\n",
       "      <th>V28</th>\n",
       "      <th>Amount</th>\n",
       "    </tr>\n",
       "    <tr>\n",
       "      <th>Class</th>\n",
       "      <th></th>\n",
       "      <th></th>\n",
       "      <th></th>\n",
       "      <th></th>\n",
       "      <th></th>\n",
       "      <th></th>\n",
       "      <th></th>\n",
       "      <th></th>\n",
       "      <th></th>\n",
       "      <th></th>\n",
       "      <th></th>\n",
       "      <th></th>\n",
       "      <th></th>\n",
       "      <th></th>\n",
       "      <th></th>\n",
       "      <th></th>\n",
       "      <th></th>\n",
       "      <th></th>\n",
       "      <th></th>\n",
       "      <th></th>\n",
       "      <th></th>\n",
       "    </tr>\n",
       "  </thead>\n",
       "  <tbody>\n",
       "    <tr>\n",
       "      <th>0</th>\n",
       "      <td>94838.202258</td>\n",
       "      <td>0.008258</td>\n",
       "      <td>-0.006271</td>\n",
       "      <td>0.012171</td>\n",
       "      <td>-0.007860</td>\n",
       "      <td>0.005453</td>\n",
       "      <td>0.002419</td>\n",
       "      <td>0.009637</td>\n",
       "      <td>-0.000987</td>\n",
       "      <td>0.004467</td>\n",
       "      <td>...</td>\n",
       "      <td>-0.000644</td>\n",
       "      <td>-0.001235</td>\n",
       "      <td>-0.000024</td>\n",
       "      <td>0.000070</td>\n",
       "      <td>0.000182</td>\n",
       "      <td>-0.000072</td>\n",
       "      <td>-0.000089</td>\n",
       "      <td>-0.000295</td>\n",
       "      <td>-0.000131</td>\n",
       "      <td>88.291022</td>\n",
       "    </tr>\n",
       "    <tr>\n",
       "      <th>1</th>\n",
       "      <td>80746.806911</td>\n",
       "      <td>-4.771948</td>\n",
       "      <td>3.623778</td>\n",
       "      <td>-7.033281</td>\n",
       "      <td>4.542029</td>\n",
       "      <td>-3.151225</td>\n",
       "      <td>-1.397737</td>\n",
       "      <td>-5.568731</td>\n",
       "      <td>0.570636</td>\n",
       "      <td>-2.581123</td>\n",
       "      <td>...</td>\n",
       "      <td>0.372319</td>\n",
       "      <td>0.713588</td>\n",
       "      <td>0.014049</td>\n",
       "      <td>-0.040308</td>\n",
       "      <td>-0.105130</td>\n",
       "      <td>0.041449</td>\n",
       "      <td>0.051648</td>\n",
       "      <td>0.170575</td>\n",
       "      <td>0.075667</td>\n",
       "      <td>122.211321</td>\n",
       "    </tr>\n",
       "  </tbody>\n",
       "</table>\n",
       "<p>2 rows × 30 columns</p>\n",
       "</div>"
      ],
      "text/plain": [
       "               Time        V1        V2        V3        V4        V5  \\\n",
       "Class                                                                   \n",
       "0      94838.202258  0.008258 -0.006271  0.012171 -0.007860  0.005453   \n",
       "1      80746.806911 -4.771948  3.623778 -7.033281  4.542029 -3.151225   \n",
       "\n",
       "             V6        V7        V8        V9  ...       V20       V21  \\\n",
       "Class                                          ...                       \n",
       "0      0.002419  0.009637 -0.000987  0.004467  ... -0.000644 -0.001235   \n",
       "1     -1.397737 -5.568731  0.570636 -2.581123  ...  0.372319  0.713588   \n",
       "\n",
       "            V22       V23       V24       V25       V26       V27       V28  \\\n",
       "Class                                                                         \n",
       "0     -0.000024  0.000070  0.000182 -0.000072 -0.000089 -0.000295 -0.000131   \n",
       "1      0.014049 -0.040308 -0.105130  0.041449  0.051648  0.170575  0.075667   \n",
       "\n",
       "           Amount  \n",
       "Class              \n",
       "0       88.291022  \n",
       "1      122.211321  \n",
       "\n",
       "[2 rows x 30 columns]"
      ]
     },
     "execution_count": 10,
     "metadata": {},
     "output_type": "execute_result"
    }
   ],
   "source": [
    "data.groupby('Class').mean()"
   ]
  },
  {
   "cell_type": "code",
   "execution_count": 11,
   "id": "54d44f2d",
   "metadata": {},
   "outputs": [],
   "source": [
    "data.drop(['Time'], axis=1, inplace=True)"
   ]
  },
  {
   "cell_type": "code",
   "execution_count": 12,
   "id": "e69c93c8",
   "metadata": {},
   "outputs": [
    {
     "name": "stdout",
     "output_type": "stream",
     "text": [
      "<class 'pandas.core.frame.DataFrame'>\n",
      "RangeIndex: 284807 entries, 0 to 284806\n",
      "Data columns (total 30 columns):\n",
      " #   Column  Non-Null Count   Dtype  \n",
      "---  ------  --------------   -----  \n",
      " 0   V1      284807 non-null  float64\n",
      " 1   V2      284807 non-null  float64\n",
      " 2   V3      284807 non-null  float64\n",
      " 3   V4      284807 non-null  float64\n",
      " 4   V5      284807 non-null  float64\n",
      " 5   V6      284807 non-null  float64\n",
      " 6   V7      284807 non-null  float64\n",
      " 7   V8      284807 non-null  float64\n",
      " 8   V9      284807 non-null  float64\n",
      " 9   V10     284807 non-null  float64\n",
      " 10  V11     284807 non-null  float64\n",
      " 11  V12     284807 non-null  float64\n",
      " 12  V13     284807 non-null  float64\n",
      " 13  V14     284807 non-null  float64\n",
      " 14  V15     284807 non-null  float64\n",
      " 15  V16     284807 non-null  float64\n",
      " 16  V17     284807 non-null  float64\n",
      " 17  V18     284807 non-null  float64\n",
      " 18  V19     284807 non-null  float64\n",
      " 19  V20     284807 non-null  float64\n",
      " 20  V21     284807 non-null  float64\n",
      " 21  V22     284807 non-null  float64\n",
      " 22  V23     284807 non-null  float64\n",
      " 23  V24     284807 non-null  float64\n",
      " 24  V25     284807 non-null  float64\n",
      " 25  V26     284807 non-null  float64\n",
      " 26  V27     284807 non-null  float64\n",
      " 27  V28     284807 non-null  float64\n",
      " 28  Amount  284807 non-null  float64\n",
      " 29  Class   284807 non-null  int64  \n",
      "dtypes: float64(29), int64(1)\n",
      "memory usage: 65.2 MB\n"
     ]
    }
   ],
   "source": [
    "data.info()"
   ]
  },
  {
   "cell_type": "markdown",
   "id": "0747eb85",
   "metadata": {},
   "source": [
    "## STRATIFIED SPLITTING OF DATASET"
   ]
  },
  {
   "cell_type": "code",
   "execution_count": 13,
   "id": "2a051f64",
   "metadata": {},
   "outputs": [],
   "source": [
    "from sklearn.model_selection import StratifiedShuffleSplit\n",
    "split = StratifiedShuffleSplit(n_splits=1, test_size=0.2, random_state=42)\n",
    "for train_index, test_index in split.split(data, data['Class']):\n",
    "    strat_train_set=data.loc[train_index]\n",
    "    strat_test_set=data.loc[test_index]"
   ]
  },
  {
   "cell_type": "code",
   "execution_count": 14,
   "id": "e35a6f8b",
   "metadata": {},
   "outputs": [
    {
     "data": {
      "text/plain": [
       "0    56864\n",
       "1       98\n",
       "Name: Class, dtype: int64"
      ]
     },
     "execution_count": 14,
     "metadata": {},
     "output_type": "execute_result"
    }
   ],
   "source": [
    "strat_test_set['Class'].value_counts()"
   ]
  },
  {
   "cell_type": "code",
   "execution_count": 15,
   "id": "b3b7f648",
   "metadata": {},
   "outputs": [
    {
     "data": {
      "text/plain": [
       "0    227451\n",
       "1       394\n",
       "Name: Class, dtype: int64"
      ]
     },
     "execution_count": 15,
     "metadata": {},
     "output_type": "execute_result"
    }
   ],
   "source": [
    "strat_train_set['Class'].value_counts()"
   ]
  },
  {
   "cell_type": "code",
   "execution_count": 16,
   "id": "58db1b4c",
   "metadata": {},
   "outputs": [
    {
     "data": {
      "text/html": [
       "<div>\n",
       "<style scoped>\n",
       "    .dataframe tbody tr th:only-of-type {\n",
       "        vertical-align: middle;\n",
       "    }\n",
       "\n",
       "    .dataframe tbody tr th {\n",
       "        vertical-align: top;\n",
       "    }\n",
       "\n",
       "    .dataframe thead th {\n",
       "        text-align: right;\n",
       "    }\n",
       "</style>\n",
       "<table border=\"1\" class=\"dataframe\">\n",
       "  <thead>\n",
       "    <tr style=\"text-align: right;\">\n",
       "      <th></th>\n",
       "      <th>V1</th>\n",
       "      <th>V2</th>\n",
       "      <th>V3</th>\n",
       "      <th>V4</th>\n",
       "      <th>V5</th>\n",
       "      <th>V6</th>\n",
       "      <th>V7</th>\n",
       "      <th>V8</th>\n",
       "      <th>V9</th>\n",
       "      <th>V10</th>\n",
       "      <th>...</th>\n",
       "      <th>V21</th>\n",
       "      <th>V22</th>\n",
       "      <th>V23</th>\n",
       "      <th>V24</th>\n",
       "      <th>V25</th>\n",
       "      <th>V26</th>\n",
       "      <th>V27</th>\n",
       "      <th>V28</th>\n",
       "      <th>Amount</th>\n",
       "      <th>Class</th>\n",
       "    </tr>\n",
       "  </thead>\n",
       "  <tbody>\n",
       "    <tr>\n",
       "      <th>265518</th>\n",
       "      <td>1.946747</td>\n",
       "      <td>-0.752526</td>\n",
       "      <td>-1.355130</td>\n",
       "      <td>-0.661630</td>\n",
       "      <td>1.502822</td>\n",
       "      <td>4.024933</td>\n",
       "      <td>-1.479661</td>\n",
       "      <td>1.139880</td>\n",
       "      <td>1.406819</td>\n",
       "      <td>-0.157403</td>\n",
       "      <td>...</td>\n",
       "      <td>0.076197</td>\n",
       "      <td>0.297537</td>\n",
       "      <td>0.307915</td>\n",
       "      <td>0.690980</td>\n",
       "      <td>-0.350316</td>\n",
       "      <td>-0.388907</td>\n",
       "      <td>0.077641</td>\n",
       "      <td>-0.032248</td>\n",
       "      <td>7.32</td>\n",
       "      <td>0</td>\n",
       "    </tr>\n",
       "    <tr>\n",
       "      <th>180305</th>\n",
       "      <td>2.035149</td>\n",
       "      <td>-0.048880</td>\n",
       "      <td>-3.058693</td>\n",
       "      <td>0.247945</td>\n",
       "      <td>2.943487</td>\n",
       "      <td>3.298697</td>\n",
       "      <td>-0.002192</td>\n",
       "      <td>0.674782</td>\n",
       "      <td>0.045826</td>\n",
       "      <td>0.284864</td>\n",
       "      <td>...</td>\n",
       "      <td>0.038628</td>\n",
       "      <td>0.228197</td>\n",
       "      <td>0.035542</td>\n",
       "      <td>0.707090</td>\n",
       "      <td>0.512885</td>\n",
       "      <td>-0.471198</td>\n",
       "      <td>0.002520</td>\n",
       "      <td>-0.069002</td>\n",
       "      <td>2.99</td>\n",
       "      <td>0</td>\n",
       "    </tr>\n",
       "    <tr>\n",
       "      <th>42664</th>\n",
       "      <td>-0.991920</td>\n",
       "      <td>0.603193</td>\n",
       "      <td>0.711976</td>\n",
       "      <td>-0.992425</td>\n",
       "      <td>-0.825838</td>\n",
       "      <td>1.956261</td>\n",
       "      <td>-2.212603</td>\n",
       "      <td>-5.037523</td>\n",
       "      <td>0.000772</td>\n",
       "      <td>-2.009561</td>\n",
       "      <td>...</td>\n",
       "      <td>-2.798352</td>\n",
       "      <td>0.109526</td>\n",
       "      <td>-0.436530</td>\n",
       "      <td>-0.932803</td>\n",
       "      <td>0.826684</td>\n",
       "      <td>0.913773</td>\n",
       "      <td>0.038049</td>\n",
       "      <td>0.185340</td>\n",
       "      <td>175.10</td>\n",
       "      <td>0</td>\n",
       "    </tr>\n",
       "    <tr>\n",
       "      <th>198723</th>\n",
       "      <td>2.285718</td>\n",
       "      <td>-1.500239</td>\n",
       "      <td>-0.747565</td>\n",
       "      <td>-1.668119</td>\n",
       "      <td>-1.394143</td>\n",
       "      <td>-0.350339</td>\n",
       "      <td>-1.427984</td>\n",
       "      <td>0.010010</td>\n",
       "      <td>-1.118447</td>\n",
       "      <td>1.756121</td>\n",
       "      <td>...</td>\n",
       "      <td>-0.139670</td>\n",
       "      <td>0.077013</td>\n",
       "      <td>0.208310</td>\n",
       "      <td>-0.538236</td>\n",
       "      <td>-0.278032</td>\n",
       "      <td>-0.162068</td>\n",
       "      <td>0.018045</td>\n",
       "      <td>-0.063005</td>\n",
       "      <td>6.10</td>\n",
       "      <td>0</td>\n",
       "    </tr>\n",
       "    <tr>\n",
       "      <th>82325</th>\n",
       "      <td>-0.448747</td>\n",
       "      <td>-1.011440</td>\n",
       "      <td>0.115903</td>\n",
       "      <td>-3.454854</td>\n",
       "      <td>0.715771</td>\n",
       "      <td>-0.147490</td>\n",
       "      <td>0.504347</td>\n",
       "      <td>-0.113817</td>\n",
       "      <td>-0.044782</td>\n",
       "      <td>-0.558955</td>\n",
       "      <td>...</td>\n",
       "      <td>-0.243245</td>\n",
       "      <td>-0.173298</td>\n",
       "      <td>-0.006692</td>\n",
       "      <td>-1.362383</td>\n",
       "      <td>-0.292234</td>\n",
       "      <td>-0.144622</td>\n",
       "      <td>-0.032580</td>\n",
       "      <td>-0.064194</td>\n",
       "      <td>86.10</td>\n",
       "      <td>0</td>\n",
       "    </tr>\n",
       "  </tbody>\n",
       "</table>\n",
       "<p>5 rows × 30 columns</p>\n",
       "</div>"
      ],
      "text/plain": [
       "              V1        V2        V3        V4        V5        V6        V7  \\\n",
       "265518  1.946747 -0.752526 -1.355130 -0.661630  1.502822  4.024933 -1.479661   \n",
       "180305  2.035149 -0.048880 -3.058693  0.247945  2.943487  3.298697 -0.002192   \n",
       "42664  -0.991920  0.603193  0.711976 -0.992425 -0.825838  1.956261 -2.212603   \n",
       "198723  2.285718 -1.500239 -0.747565 -1.668119 -1.394143 -0.350339 -1.427984   \n",
       "82325  -0.448747 -1.011440  0.115903 -3.454854  0.715771 -0.147490  0.504347   \n",
       "\n",
       "              V8        V9       V10  ...       V21       V22       V23  \\\n",
       "265518  1.139880  1.406819 -0.157403  ...  0.076197  0.297537  0.307915   \n",
       "180305  0.674782  0.045826  0.284864  ...  0.038628  0.228197  0.035542   \n",
       "42664  -5.037523  0.000772 -2.009561  ... -2.798352  0.109526 -0.436530   \n",
       "198723  0.010010 -1.118447  1.756121  ... -0.139670  0.077013  0.208310   \n",
       "82325  -0.113817 -0.044782 -0.558955  ... -0.243245 -0.173298 -0.006692   \n",
       "\n",
       "             V24       V25       V26       V27       V28  Amount  Class  \n",
       "265518  0.690980 -0.350316 -0.388907  0.077641 -0.032248    7.32      0  \n",
       "180305  0.707090  0.512885 -0.471198  0.002520 -0.069002    2.99      0  \n",
       "42664  -0.932803  0.826684  0.913773  0.038049  0.185340  175.10      0  \n",
       "198723 -0.538236 -0.278032 -0.162068  0.018045 -0.063005    6.10      0  \n",
       "82325  -1.362383 -0.292234 -0.144622 -0.032580 -0.064194   86.10      0  \n",
       "\n",
       "[5 rows x 30 columns]"
      ]
     },
     "execution_count": 16,
     "metadata": {},
     "output_type": "execute_result"
    }
   ],
   "source": [
    "strat_train_set.head()"
   ]
  },
  {
   "cell_type": "code",
   "execution_count": 17,
   "id": "cf5fafd2",
   "metadata": {},
   "outputs": [
    {
     "data": {
      "text/html": [
       "<div>\n",
       "<style scoped>\n",
       "    .dataframe tbody tr th:only-of-type {\n",
       "        vertical-align: middle;\n",
       "    }\n",
       "\n",
       "    .dataframe tbody tr th {\n",
       "        vertical-align: top;\n",
       "    }\n",
       "\n",
       "    .dataframe thead th {\n",
       "        text-align: right;\n",
       "    }\n",
       "</style>\n",
       "<table border=\"1\" class=\"dataframe\">\n",
       "  <thead>\n",
       "    <tr style=\"text-align: right;\">\n",
       "      <th></th>\n",
       "      <th>V1</th>\n",
       "      <th>V2</th>\n",
       "      <th>V3</th>\n",
       "      <th>V4</th>\n",
       "      <th>V5</th>\n",
       "      <th>V6</th>\n",
       "      <th>V7</th>\n",
       "      <th>V8</th>\n",
       "      <th>V9</th>\n",
       "      <th>V10</th>\n",
       "      <th>...</th>\n",
       "      <th>V20</th>\n",
       "      <th>V21</th>\n",
       "      <th>V22</th>\n",
       "      <th>V23</th>\n",
       "      <th>V24</th>\n",
       "      <th>V25</th>\n",
       "      <th>V26</th>\n",
       "      <th>V27</th>\n",
       "      <th>V28</th>\n",
       "      <th>Amount</th>\n",
       "    </tr>\n",
       "    <tr>\n",
       "      <th>Class</th>\n",
       "      <th></th>\n",
       "      <th></th>\n",
       "      <th></th>\n",
       "      <th></th>\n",
       "      <th></th>\n",
       "      <th></th>\n",
       "      <th></th>\n",
       "      <th></th>\n",
       "      <th></th>\n",
       "      <th></th>\n",
       "      <th></th>\n",
       "      <th></th>\n",
       "      <th></th>\n",
       "      <th></th>\n",
       "      <th></th>\n",
       "      <th></th>\n",
       "      <th></th>\n",
       "      <th></th>\n",
       "      <th></th>\n",
       "      <th></th>\n",
       "      <th></th>\n",
       "    </tr>\n",
       "  </thead>\n",
       "  <tbody>\n",
       "    <tr>\n",
       "      <th>0</th>\n",
       "      <td>0.008952</td>\n",
       "      <td>-0.006698</td>\n",
       "      <td>0.011860</td>\n",
       "      <td>-0.007976</td>\n",
       "      <td>0.005548</td>\n",
       "      <td>0.001230</td>\n",
       "      <td>0.009673</td>\n",
       "      <td>-0.001453</td>\n",
       "      <td>0.005189</td>\n",
       "      <td>0.009462</td>\n",
       "      <td>...</td>\n",
       "      <td>-0.001621</td>\n",
       "      <td>-0.000719</td>\n",
       "      <td>0.000214</td>\n",
       "      <td>0.000159</td>\n",
       "      <td>-0.000089</td>\n",
       "      <td>-0.000690</td>\n",
       "      <td>0.000043</td>\n",
       "      <td>-0.000341</td>\n",
       "      <td>0.000020</td>\n",
       "      <td>88.111486</td>\n",
       "    </tr>\n",
       "    <tr>\n",
       "      <th>1</th>\n",
       "      <td>-4.707808</td>\n",
       "      <td>3.588729</td>\n",
       "      <td>-7.068378</td>\n",
       "      <td>4.592975</td>\n",
       "      <td>-3.101629</td>\n",
       "      <td>-1.387192</td>\n",
       "      <td>-5.539909</td>\n",
       "      <td>0.587920</td>\n",
       "      <td>-2.589654</td>\n",
       "      <td>-5.687216</td>\n",
       "      <td>...</td>\n",
       "      <td>0.358018</td>\n",
       "      <td>0.628814</td>\n",
       "      <td>0.051318</td>\n",
       "      <td>-0.062790</td>\n",
       "      <td>-0.109108</td>\n",
       "      <td>0.019602</td>\n",
       "      <td>0.047827</td>\n",
       "      <td>0.155933</td>\n",
       "      <td>0.077212</td>\n",
       "      <td>125.591472</td>\n",
       "    </tr>\n",
       "  </tbody>\n",
       "</table>\n",
       "<p>2 rows × 29 columns</p>\n",
       "</div>"
      ],
      "text/plain": [
       "             V1        V2        V3        V4        V5        V6        V7  \\\n",
       "Class                                                                         \n",
       "0      0.008952 -0.006698  0.011860 -0.007976  0.005548  0.001230  0.009673   \n",
       "1     -4.707808  3.588729 -7.068378  4.592975 -3.101629 -1.387192 -5.539909   \n",
       "\n",
       "             V8        V9       V10  ...       V20       V21       V22  \\\n",
       "Class                                ...                                 \n",
       "0     -0.001453  0.005189  0.009462  ... -0.001621 -0.000719  0.000214   \n",
       "1      0.587920 -2.589654 -5.687216  ...  0.358018  0.628814  0.051318   \n",
       "\n",
       "            V23       V24       V25       V26       V27       V28      Amount  \n",
       "Class                                                                          \n",
       "0      0.000159 -0.000089 -0.000690  0.000043 -0.000341  0.000020   88.111486  \n",
       "1     -0.062790 -0.109108  0.019602  0.047827  0.155933  0.077212  125.591472  \n",
       "\n",
       "[2 rows x 29 columns]"
      ]
     },
     "execution_count": 17,
     "metadata": {},
     "output_type": "execute_result"
    }
   ],
   "source": [
    "strat_train_set.groupby('Class').mean()"
   ]
  },
  {
   "cell_type": "code",
   "execution_count": 18,
   "id": "a6a5c6fb",
   "metadata": {},
   "outputs": [
    {
     "name": "stdout",
     "output_type": "stream",
     "text": [
      "<class 'pandas.core.frame.DataFrame'>\n",
      "Int64Index: 227845 entries, 265518 to 17677\n",
      "Data columns (total 30 columns):\n",
      " #   Column  Non-Null Count   Dtype  \n",
      "---  ------  --------------   -----  \n",
      " 0   V1      227845 non-null  float64\n",
      " 1   V2      227845 non-null  float64\n",
      " 2   V3      227845 non-null  float64\n",
      " 3   V4      227845 non-null  float64\n",
      " 4   V5      227845 non-null  float64\n",
      " 5   V6      227845 non-null  float64\n",
      " 6   V7      227845 non-null  float64\n",
      " 7   V8      227845 non-null  float64\n",
      " 8   V9      227845 non-null  float64\n",
      " 9   V10     227845 non-null  float64\n",
      " 10  V11     227845 non-null  float64\n",
      " 11  V12     227845 non-null  float64\n",
      " 12  V13     227845 non-null  float64\n",
      " 13  V14     227845 non-null  float64\n",
      " 14  V15     227845 non-null  float64\n",
      " 15  V16     227845 non-null  float64\n",
      " 16  V17     227845 non-null  float64\n",
      " 17  V18     227845 non-null  float64\n",
      " 18  V19     227845 non-null  float64\n",
      " 19  V20     227845 non-null  float64\n",
      " 20  V21     227845 non-null  float64\n",
      " 21  V22     227845 non-null  float64\n",
      " 22  V23     227845 non-null  float64\n",
      " 23  V24     227845 non-null  float64\n",
      " 24  V25     227845 non-null  float64\n",
      " 25  V26     227845 non-null  float64\n",
      " 26  V27     227845 non-null  float64\n",
      " 27  V28     227845 non-null  float64\n",
      " 28  Amount  227845 non-null  float64\n",
      " 29  Class   227845 non-null  int64  \n",
      "dtypes: float64(29), int64(1)\n",
      "memory usage: 53.9 MB\n"
     ]
    }
   ],
   "source": [
    "strat_train_set.info()"
   ]
  },
  {
   "cell_type": "code",
   "execution_count": 19,
   "id": "5fc3b209",
   "metadata": {},
   "outputs": [],
   "source": [
    "#GENERATING MATRIX OF FEATURES\n",
    "X = strat_train_set.iloc[:,0:29].values\n",
    "Y = strat_train_set.iloc[:,-1].values\n",
    "X_test = strat_test_set.iloc[:,0:29].values\n",
    "Y_test = strat_test_set.iloc[:,-1].values"
   ]
  },
  {
   "cell_type": "markdown",
   "id": "4ace5aec",
   "metadata": {},
   "source": [
    "## ARTIFICIAL NEURAL NETWORK (ANN) "
   ]
  },
  {
   "cell_type": "code",
   "execution_count": 20,
   "id": "b7b2e3fb",
   "metadata": {},
   "outputs": [],
   "source": [
    "#INITIALISING ANN\n",
    "ann = tf.keras.models.Sequential()"
   ]
  },
  {
   "cell_type": "code",
   "execution_count": 21,
   "id": "ccb2101c",
   "metadata": {},
   "outputs": [],
   "source": [
    "#ADDING FIRST HIDDEN LAYER\n",
    "ann.add(tf.keras.layers.Dense(units=6,activation=\"relu\"))"
   ]
  },
  {
   "cell_type": "code",
   "execution_count": 22,
   "id": "5770b9a8",
   "metadata": {},
   "outputs": [],
   "source": [
    "#ADDING SECOND HIDDEN LAYER\n",
    "ann.add(tf.keras.layers.Dense(units=6,activation=\"relu\"))\n",
    " "
   ]
  },
  {
   "cell_type": "code",
   "execution_count": 23,
   "id": "1429f2e7",
   "metadata": {},
   "outputs": [],
   "source": [
    "#ADDING OUTPUT LAYER\n",
    "ann.add(tf.keras.layers.Dense(units=1,activation=\"sigmoid\"))"
   ]
  },
  {
   "cell_type": "code",
   "execution_count": 24,
   "id": "92a8a7d0",
   "metadata": {},
   "outputs": [],
   "source": [
    "#COMPILING ANN\n",
    "ann.compile(optimizer=\"adam\",loss=\"binary_crossentropy\",metrics=['accuracy'])"
   ]
  },
  {
   "cell_type": "code",
   "execution_count": 25,
   "id": "5223955d",
   "metadata": {},
   "outputs": [
    {
     "name": "stdout",
     "output_type": "stream",
     "text": [
      "Epoch 1/10\n",
      "7121/7121 [==============================] - 9s 1ms/step - loss: 0.0225 - accuracy: 0.9982\n",
      "Epoch 2/10\n",
      "7121/7121 [==============================] - 10s 1ms/step - loss: 0.0080 - accuracy: 0.9992\n",
      "Epoch 3/10\n",
      "7121/7121 [==============================] - 8s 1ms/step - loss: 0.0062 - accuracy: 0.9993\n",
      "Epoch 4/10\n",
      "7121/7121 [==============================] - 8s 1ms/step - loss: 0.0054 - accuracy: 0.9993\n",
      "Epoch 5/10\n",
      "7121/7121 [==============================] - 8s 1ms/step - loss: 0.0054 - accuracy: 0.9993\n",
      "Epoch 6/10\n",
      "7121/7121 [==============================] - 8s 1ms/step - loss: 0.0042 - accuracy: 0.9994\n",
      "Epoch 7/10\n",
      "7121/7121 [==============================] - 8s 1ms/step - loss: 0.0046 - accuracy: 0.9993\n",
      "Epoch 8/10\n",
      "7121/7121 [==============================] - 8s 1ms/step - loss: 0.0041 - accuracy: 0.9993\n",
      "Epoch 9/10\n",
      "7121/7121 [==============================] - 8s 1ms/step - loss: 0.0043 - accuracy: 0.9993\n",
      "Epoch 10/10\n",
      "7121/7121 [==============================] - 8s 1ms/step - loss: 0.0036 - accuracy: 0.9993\n"
     ]
    },
    {
     "data": {
      "text/plain": [
       "<keras.callbacks.History at 0x2ab91c0b9d0>"
      ]
     },
     "execution_count": 25,
     "metadata": {},
     "output_type": "execute_result"
    }
   ],
   "source": [
    "#Fitting ANN\n",
    "ann.fit(X,Y,batch_size=32,epochs = 10)"
   ]
  },
  {
   "cell_type": "code",
   "execution_count": 26,
   "id": "6977acc8",
   "metadata": {},
   "outputs": [],
   "source": [
    "Y_test_ANN = ann.predict(X_test)\n",
    "for i in range(56962):\n",
    "    if Y_test_ANN[i]>0.5:\n",
    "        Y_test_ANN[i]=1;\n",
    "    else:\n",
    "        Y_test_ANN[i]=0;"
   ]
  },
  {
   "cell_type": "code",
   "execution_count": 27,
   "id": "fa47ffa2",
   "metadata": {},
   "outputs": [
    {
     "name": "stdout",
     "output_type": "stream",
     "text": [
      "[[56847    17]\n",
      " [   21    77]]\n"
     ]
    }
   ],
   "source": [
    "#GENERATING THE CONFUSION MATRIX\n",
    "cf_matrix1 = confusion_matrix(Y_test,Y_test_ANN)\n",
    "print(cf_matrix1)"
   ]
  },
  {
   "cell_type": "code",
   "execution_count": 28,
   "id": "934397e6",
   "metadata": {},
   "outputs": [
    {
     "data": {
      "image/png": "[encoded data removed]",
      "text/plain": [
       "<Figure size 432x288 with 2 Axes>"
      ]
     },
     "metadata": {
      "needs_background": "light"
     },
     "output_type": "display_data"
    }
   ],
   "source": [
    "ax = sns.heatmap(cf_matrix1, annot=True, cmap='Blues')\n",
    "\n",
    "ax.set_title('SEABORN CONFUSION MATRIX FOR ANN\\n\\n');\n",
    "ax.set_xlabel('\\nPREDICTED VALUES')\n",
    "ax.set_ylabel('ACTUAL VALUES');\n",
    "\n",
    "## Ticket labels - List must be in alphabetical order\n",
    "ax.xaxis.set_ticklabels(['FALSE','TRUE'])\n",
    "ax.yaxis.set_ticklabels(['FALSE','TRUE'])\n",
    "\n",
    "## Display the visualization of the Confusion Matrix.\n",
    "plt.show()"
   ]
  },
  {
   "cell_type": "code",
   "execution_count": 29,
   "id": "f558bce7",
   "metadata": {},
   "outputs": [
    {
     "name": "stdout",
     "output_type": "stream",
     "text": [
      "ANN MODEL: \n",
      "\n",
      "PRECISION: 81.91489361702128 %\n",
      "\n",
      " RECALL: 78.57142857142857 %\n",
      "\n",
      " F1_SCORE: 80.20833333333333 %\n",
      "\n",
      " ACCURACY: 99.93328885923948 %\n"
     ]
    }
   ],
   "source": [
    "# CONFUSIN MATRIX PARAMETERS\n",
    "print(\"ANN MODEL: \\n\")\n",
    "p_ann = precision_score(Y_test,Y_test_ANN)\n",
    "print(\"PRECISION:\",p_ann*100, \"%\")\n",
    "r_ann = recall_score(Y_test,Y_test_ANN)\n",
    "print(\"\\n RECALL:\",r_ann*100, \"%\")\n",
    "f1_ann = f1_score(Y_test,Y_test_ANN)\n",
    "print(\"\\n F1_SCORE:\",f1_ann*100, \"%\")\n",
    "acc_ann = accuracy_score(Y_test,Y_test_ANN)*100\n",
    "print(\"\\n ACCURACY:\",acc_ann,\"%\")"
   ]
  },
  {
   "cell_type": "markdown",
   "id": "73d8be8f",
   "metadata": {},
   "source": [
    "## XGBOOST (XGB)"
   ]
  },
  {
   "cell_type": "code",
   "execution_count": 30,
   "id": "6845b8ff",
   "metadata": {},
   "outputs": [],
   "source": [
    "xgb = XGBClassifier(max_depth = 4)\n",
    "xgb.fit(X,Y)\n",
    "Y_test_XGB = xgb.predict(X_test)"
   ]
  },
  {
   "cell_type": "code",
   "execution_count": 31,
   "id": "d1f71573",
   "metadata": {},
   "outputs": [
    {
     "name": "stdout",
     "output_type": "stream",
     "text": [
      "[[56858     6]\n",
      " [   20    78]]\n"
     ]
    }
   ],
   "source": [
    "#GENERATING THE CONFUSION MATRIX\n",
    "cf_matrix3 = confusion_matrix(Y_test,Y_test_XGB)\n",
    "print(cf_matrix3)"
   ]
  },
  {
   "cell_type": "code",
   "execution_count": 32,
   "id": "319b4648",
   "metadata": {},
   "outputs": [
    {
     "data": {
      "image/png": "[encoded data removed]",
      "text/plain": [
       "<Figure size 432x288 with 2 Axes>"
      ]
     },
     "metadata": {
      "needs_background": "light"
     },
     "output_type": "display_data"
    }
   ],
   "source": [
    "ax = sns.heatmap(cf_matrix3, annot=True, cmap='Blues')\n",
    "\n",
    "ax.set_title('SEABORN CONFUSION MATRIX FOR XGB\\n\\n');\n",
    "ax.set_xlabel('\\nPREDICTED VALUES')\n",
    "ax.set_ylabel('ACTUAL VALUES');\n",
    "\n",
    "## Ticket labels - List must be in alphabetical order\n",
    "ax.xaxis.set_ticklabels(['FALSE','TRUE'])\n",
    "ax.yaxis.set_ticklabels(['FALSE','TRUE'])\n",
    "\n",
    "## Display the visualization of the Confusion Matrix.\n",
    "plt.show()"
   ]
  },
  {
   "cell_type": "code",
   "execution_count": 33,
   "id": "edf97020",
   "metadata": {},
   "outputs": [
    {
     "name": "stdout",
     "output_type": "stream",
     "text": [
      "XGB MODEL: \n",
      "\n",
      "PRECISION: 92.85714285714286 %\n",
      "\n",
      " RECALL: 79.59183673469387 %\n",
      "\n",
      " F1_SCORE: 85.71428571428572 %\n",
      "\n",
      " ACCURACY: 99.95435553526913 %\n"
     ]
    }
   ],
   "source": [
    "# CONFUSIN MATRIX PARAMETERS\n",
    "print(\"XGB MODEL: \\n\")\n",
    "p_xgb = precision_score(Y_test,Y_test_XGB)\n",
    "print(\"PRECISION:\",p_xgb*100, \"%\")\n",
    "r_xgb = recall_score(Y_test,Y_test_XGB)\n",
    "print(\"\\n RECALL:\",r_xgb*100, \"%\")\n",
    "f1_xgb = f1_score(Y_test,Y_test_XGB)\n",
    "print(\"\\n F1_SCORE:\",f1_xgb*100, \"%\")\n",
    "acc_xgb = accuracy_score(Y_test,Y_test_XGB)*100\n",
    "print(\"\\n ACCURACY:\",acc_xgb,\"%\")"
   ]
  },
  {
   "cell_type": "markdown",
   "id": "ed3486bb",
   "metadata": {},
   "source": [
    "## NAIVE BAYES CLASSIFIER"
   ]
  },
  {
   "cell_type": "code",
   "execution_count": 34,
   "id": "b93d29cb",
   "metadata": {},
   "outputs": [],
   "source": [
    "nb = GaussianNB()\n",
    "nb.fit(X,Y)\n",
    "Y_test_NB = nb.predict(X_test)"
   ]
  },
  {
   "cell_type": "code",
   "execution_count": 35,
   "id": "0f2db3cf",
   "metadata": {},
   "outputs": [
    {
     "name": "stdout",
     "output_type": "stream",
     "text": [
      "[[55534  1330]\n",
      " [   15    83]]\n"
     ]
    }
   ],
   "source": [
    "#GENERATING THE CONFUSION MATRIX\n",
    "cf_matrix4 = confusion_matrix(Y_test,Y_test_NB)\n",
    "print(cf_matrix4)"
   ]
  },
  {
   "cell_type": "code",
   "execution_count": 36,
   "id": "7b933336",
   "metadata": {},
   "outputs": [
    {
     "data": {
      "image/png": "[encoded data removed]",
      "text/plain": [
       "<Figure size 432x288 with 2 Axes>"
      ]
     },
     "metadata": {
      "needs_background": "light"
     },
     "output_type": "display_data"
    }
   ],
   "source": [
    "ax = sns.heatmap(cf_matrix4, annot=True, cmap='Blues')\n",
    "\n",
    "ax.set_title('SEABORN CONFUSION MATRIX FOR NB\\n\\n');\n",
    "ax.set_xlabel('\\nPREDICTED VALUES')\n",
    "ax.set_ylabel('ACTUAL VALUES');\n",
    "\n",
    "## Ticket labels - List must be in alphabetical order\n",
    "ax.xaxis.set_ticklabels(['FALSE','TRUE'])\n",
    "ax.yaxis.set_ticklabels(['FALSE','TRUE'])\n",
    "\n",
    "## Display the visualization of the Confusion Matrix.\n",
    "plt.show()"
   ]
  },
  {
   "cell_type": "code",
   "execution_count": 37,
   "id": "62f47556",
   "metadata": {},
   "outputs": [
    {
     "name": "stdout",
     "output_type": "stream",
     "text": [
      "NB MODEL: \n",
      "\n",
      "PRECISION: 5.874026893135174 %\n",
      "\n",
      " RECALL: 84.6938775510204 %\n",
      "\n",
      " F1_SCORE: 10.986101919258768 %\n",
      "\n",
      " ACCURACY: 97.6387767283452 %\n"
     ]
    }
   ],
   "source": [
    "# CONFUSIN MATRIX PARAMETERS\n",
    "print(\"NB MODEL: \\n\")\n",
    "p_nb = precision_score(Y_test,Y_test_NB)\n",
    "print(\"PRECISION:\",p_nb*100, \"%\")\n",
    "r_nb = recall_score(Y_test,Y_test_NB)\n",
    "print(\"\\n RECALL:\",r_nb*100, \"%\")\n",
    "f1_nb = f1_score(Y_test,Y_test_NB)\n",
    "print(\"\\n F1_SCORE:\",f1_nb*100, \"%\")\n",
    "acc_nb = accuracy_score(Y_test,Y_test_NB)*100\n",
    "print(\"\\n ACCURACY:\",acc_nb,\"%\")"
   ]
  },
  {
   "cell_type": "markdown",
   "id": "b32cd310",
   "metadata": {},
   "source": [
    "## KNN ( K NEAREST NEIGHBOR)"
   ]
  },
  {
   "cell_type": "code",
   "execution_count": 38,
   "id": "27349221",
   "metadata": {},
   "outputs": [],
   "source": [
    "n = 7\n",
    "KNN = KNeighborsClassifier(n_neighbors = n, metric='minkowski', p=2)\n",
    "KNN.fit(X,Y)\n",
    "Y_test_KNN = KNN.predict(X_test)"
   ]
  },
  {
   "cell_type": "code",
   "execution_count": 39,
   "id": "8872732d",
   "metadata": {},
   "outputs": [
    {
     "name": "stdout",
     "output_type": "stream",
     "text": [
      "[[56854    10]\n",
      " [   32    66]]\n"
     ]
    }
   ],
   "source": [
    "#GENERATING THE CONFUSION MATRIX\n",
    "cf_matrix3 = confusion_matrix(Y_test,Y_test_KNN)\n",
    "print(cf_matrix3)"
   ]
  },
  {
   "cell_type": "code",
   "execution_count": 40,
   "id": "4e3ec754",
   "metadata": {},
   "outputs": [
    {
     "data": {
      "image/png": "[encoded data removed]",
      "text/plain": [
       "<Figure size 432x288 with 2 Axes>"
      ]
     },
     "metadata": {
      "needs_background": "light"
     },
     "output_type": "display_data"
    }
   ],
   "source": [
    "ax = sns.heatmap(cf_matrix3, annot=True, cmap='Blues')\n",
    "\n",
    "ax.set_title('SEABORN CONFUSION MATRIX FOR KNN\\n\\n');\n",
    "ax.set_xlabel('\\nPREDICTED VALUES')\n",
    "ax.set_ylabel('ACTUAL VALUES');\n",
    "\n",
    "## Ticket labels - List must be in alphabetical order\n",
    "ax.xaxis.set_ticklabels(['FALSE','TRUE'])\n",
    "ax.yaxis.set_ticklabels(['FALSE','TRUE'])\n",
    "\n",
    "## Display the visualization of the Confusion Matrix.\n",
    "plt.show()"
   ]
  },
  {
   "cell_type": "code",
   "execution_count": 41,
   "id": "2c4325ff",
   "metadata": {},
   "outputs": [
    {
     "name": "stdout",
     "output_type": "stream",
     "text": [
      "NB MODEL: \n",
      "\n",
      "PRECISION: 86.8421052631579 %\n",
      "\n",
      " RECALL: 67.3469387755102 %\n",
      "\n",
      " F1_SCORE: 75.86206896551724 %\n",
      "\n",
      " ACCURACY: 99.92626663389628 %\n"
     ]
    }
   ],
   "source": [
    "# CONFUSIN MATRIX PARAMETERS\n",
    "print(\"NB MODEL: \\n\")\n",
    "p_knn = precision_score(Y_test,Y_test_KNN)\n",
    "print(\"PRECISION:\",p_knn*100, \"%\")\n",
    "r_knn = recall_score(Y_test,Y_test_KNN)\n",
    "print(\"\\n RECALL:\",r_knn*100, \"%\")\n",
    "f1_knn = f1_score(Y_test,Y_test_KNN)\n",
    "print(\"\\n F1_SCORE:\",f1_knn*100, \"%\")\n",
    "acc_knn = accuracy_score(Y_test,Y_test_KNN)*100\n",
    "print(\"\\n ACCURACY:\",acc_knn,\"%\")"
   ]
  },
  {
   "cell_type": "markdown",
   "id": "9f188dc2",
   "metadata": {},
   "source": [
    "## DECISION TREE"
   ]
  },
  {
   "cell_type": "code",
   "execution_count": 42,
   "id": "e16eb0a1",
   "metadata": {},
   "outputs": [],
   "source": [
    "DT = DecisionTreeClassifier(max_depth = 4, criterion = 'entropy')\n",
    "DT.fit(X,Y)\n",
    "Y_test_DT = DT.predict(X_test)"
   ]
  },
  {
   "cell_type": "code",
   "execution_count": 43,
   "id": "1454e908",
   "metadata": {},
   "outputs": [
    {
     "name": "stdout",
     "output_type": "stream",
     "text": [
      "[[56848    16]\n",
      " [   17    81]]\n"
     ]
    }
   ],
   "source": [
    "#GENERATING THE CONFUSION MATRIX\n",
    "cf_matrix5 = confusion_matrix(Y_test,Y_test_DT)\n",
    "print(cf_matrix5)"
   ]
  },
  {
   "cell_type": "code",
   "execution_count": 44,
   "id": "658e99dd",
   "metadata": {},
   "outputs": [
    {
     "data": {
      "image/png": "[encoded data removed]",
      "text/plain": [
       "<Figure size 432x288 with 2 Axes>"
      ]
     },
     "metadata": {
      "needs_background": "light"
     },
     "output_type": "display_data"
    }
   ],
   "source": [
    "ax = sns.heatmap(cf_matrix5, annot=True, cmap='Blues')\n",
    "\n",
    "ax.set_title('SEABORN CONFUSION MATRIX FOR DT\\n\\n');\n",
    "ax.set_xlabel('\\nPREDICTED VALUES')\n",
    "ax.set_ylabel('ACTUAL VALUES');\n",
    "\n",
    "## Ticket labels - List must be in alphabetical order\n",
    "ax.xaxis.set_ticklabels(['FALSE','TRUE'])\n",
    "ax.yaxis.set_ticklabels(['FALSE','TRUE'])\n",
    "\n",
    "## Display the visualization of the Confusion Matrix.\n",
    "plt.show()"
   ]
  },
  {
   "cell_type": "code",
   "execution_count": 45,
   "id": "d773e017",
   "metadata": {},
   "outputs": [
    {
     "name": "stdout",
     "output_type": "stream",
     "text": [
      "DT MODEL: \n",
      "\n",
      "PRECISION: 83.50515463917526 %\n",
      "\n",
      " RECALL: 82.6530612244898 %\n",
      "\n",
      " F1_SCORE: 83.07692307692307 %\n",
      "\n",
      " ACCURACY: 99.9420666409185 %\n"
     ]
    }
   ],
   "source": [
    "# CONFUSIN MATRIX PARAMETERS\n",
    "print(\"DT MODEL: \\n\")\n",
    "p_dt = precision_score(Y_test,Y_test_DT)\n",
    "print(\"PRECISION:\",p_dt*100, \"%\")\n",
    "r_dt = recall_score(Y_test,Y_test_DT)\n",
    "print(\"\\n RECALL:\",r_dt*100, \"%\")\n",
    "f1_dt = f1_score(Y_test,Y_test_DT)\n",
    "print(\"\\n F1_SCORE:\",f1_dt*100, \"%\")\n",
    "acc_dt = accuracy_score(Y_test,Y_test_DT)*100\n",
    "print(\"\\n ACCURACY:\",acc_dt,\"%\")"
   ]
  },
  {
   "cell_type": "markdown",
   "id": "edb7b029",
   "metadata": {},
   "source": [
    "## LOGISTIC REGRESSION"
   ]
  },
  {
   "cell_type": "code",
   "execution_count": 46,
   "id": "7e301d67",
   "metadata": {},
   "outputs": [],
   "source": [
    "lr = LogisticRegression(max_iter = 10000)\n",
    "lr.fit(X,Y)\n",
    "Y_test_LR = lr.predict(X_test)"
   ]
  },
  {
   "cell_type": "code",
   "execution_count": 47,
   "id": "921c2147",
   "metadata": {},
   "outputs": [
    {
     "name": "stdout",
     "output_type": "stream",
     "text": [
      "[[56851    13]\n",
      " [   34    64]]\n"
     ]
    }
   ],
   "source": [
    "#GENERATING THE CONFUSION MATRIX\n",
    "cf_matrix6 = confusion_matrix(Y_test,Y_test_LR)\n",
    "print(cf_matrix6)"
   ]
  },
  {
   "cell_type": "code",
   "execution_count": 48,
   "id": "cff00e8d",
   "metadata": {},
   "outputs": [
    {
     "data": {
      "image/png": "[encoded data removed]",
      "text/plain": [
       "<Figure size 432x288 with 2 Axes>"
      ]
     },
     "metadata": {
      "needs_background": "light"
     },
     "output_type": "display_data"
    }
   ],
   "source": [
    "ax = sns.heatmap(cf_matrix6, annot=True, cmap='Blues')\n",
    "\n",
    "ax.set_title('SEABORN CONFUSION MATRIX FOR LR\\n\\n');\n",
    "ax.set_xlabel('\\nPREDICTED VALUES')\n",
    "ax.set_ylabel('ACTUAL VALUES');\n",
    "\n",
    "## Ticket labels - List must be in alphabetical order\n",
    "ax.xaxis.set_ticklabels(['FALSE','TRUE'])\n",
    "ax.yaxis.set_ticklabels(['FALSE','TRUE'])\n",
    "\n",
    "## Display the visualization of the Confusion Matrix.\n",
    "plt.show()"
   ]
  },
  {
   "cell_type": "code",
   "execution_count": 49,
   "id": "40bb65b7",
   "metadata": {},
   "outputs": [
    {
     "name": "stdout",
     "output_type": "stream",
     "text": [
      "LR MODEL: \n",
      "\n",
      "PRECISION: 83.11688311688312 %\n",
      "\n",
      " RECALL: 65.3061224489796 %\n",
      "\n",
      " F1_SCORE: 73.14285714285714 %\n",
      "\n",
      " ACCURACY: 99.91748885221726 %\n"
     ]
    }
   ],
   "source": [
    "# CONFUSIN MATRIX PARAMETERS\n",
    "print(\"LR MODEL: \\n\")\n",
    "p_lr = precision_score(Y_test,Y_test_LR)\n",
    "print(\"PRECISION:\",p_lr*100, \"%\")\n",
    "r_lr = recall_score(Y_test,Y_test_LR)\n",
    "print(\"\\n RECALL:\",r_lr*100, \"%\")\n",
    "f1_lr = f1_score(Y_test,Y_test_LR)\n",
    "print(\"\\n F1_SCORE:\",f1_lr*100, \"%\")\n",
    "acc_lr = accuracy_score(Y_test,Y_test_LR)*100\n",
    "print(\"\\n ACCURACY:\",acc_lr,\"%\")"
   ]
  },
  {
   "cell_type": "markdown",
   "id": "982bb04c",
   "metadata": {},
   "source": [
    "## RANDOM FOREST "
   ]
  },
  {
   "cell_type": "code",
   "execution_count": 50,
   "id": "e4f4d580",
   "metadata": {},
   "outputs": [],
   "source": [
    "rf = RandomForestClassifier(max_depth = 4)\n",
    "rf.fit(X,Y)\n",
    "Y_test_RF = rf.predict(X_test)"
   ]
  },
  {
   "cell_type": "code",
   "execution_count": 51,
   "id": "6dd6d0c9",
   "metadata": {},
   "outputs": [
    {
     "name": "stdout",
     "output_type": "stream",
     "text": [
      "[[56855     9]\n",
      " [   30    68]]\n"
     ]
    }
   ],
   "source": [
    "#GENERATING THE CONFUSION MATRIX\n",
    "cf_matrix7 = confusion_matrix(Y_test,Y_test_RF)\n",
    "print(cf_matrix7)"
   ]
  },
  {
   "cell_type": "code",
   "execution_count": 52,
   "id": "7cc06e10",
   "metadata": {},
   "outputs": [
    {
     "data": {
      "image/png": "[encoded data removed]",
      "text/plain": [
       "<Figure size 432x288 with 2 Axes>"
      ]
     },
     "metadata": {
      "needs_background": "light"
     },
     "output_type": "display_data"
    }
   ],
   "source": [
    "ax = sns.heatmap(cf_matrix7, annot=True, cmap='Blues')\n",
    "\n",
    "ax.set_title('SEABORN CONFUSION MATRIX FOR RF\\n\\n');\n",
    "ax.set_xlabel('\\nPREDICTED VALUES')\n",
    "ax.set_ylabel('ACTUAL VALUES');\n",
    "\n",
    "## Ticket labels - List must be in alphabetical order\n",
    "ax.xaxis.set_ticklabels(['FALSE','TRUE'])\n",
    "ax.yaxis.set_ticklabels(['FALSE','TRUE'])\n",
    "\n",
    "## Display the visualization of the Confusion Matrix.\n",
    "plt.show()"
   ]
  },
  {
   "cell_type": "code",
   "execution_count": 53,
   "id": "e1b340bd",
   "metadata": {},
   "outputs": [
    {
     "name": "stdout",
     "output_type": "stream",
     "text": [
      "RF MODEL: \n",
      "\n",
      "PRECISION: 88.31168831168831 %\n",
      "\n",
      " RECALL: 69.38775510204081 %\n",
      "\n",
      " F1_SCORE: 77.71428571428571 %\n",
      "\n",
      " ACCURACY: 99.93153330290369 %\n"
     ]
    }
   ],
   "source": [
    "# CONFUSIN MATRIX PARAMETERS\n",
    "print(\"RF MODEL: \\n\")\n",
    "p_rf = precision_score(Y_test,Y_test_RF)\n",
    "print(\"PRECISION:\",p_rf*100, \"%\")\n",
    "r_rf = recall_score(Y_test,Y_test_RF)\n",
    "print(\"\\n RECALL:\",r_rf*100, \"%\")\n",
    "f1_rf = f1_score(Y_test,Y_test_RF)\n",
    "print(\"\\n F1_SCORE:\",f1_rf*100, \"%\")\n",
    "acc_rf = accuracy_score(Y_test,Y_test_RF)*100\n",
    "print(\"\\n ACCURACY:\",acc_rf,\"%\")"
   ]
  },
  {
   "cell_type": "markdown",
   "id": "d444b759",
   "metadata": {},
   "source": [
    "## SUPPORT VECTOR MACHINE (SVM)"
   ]
  },
  {
   "cell_type": "code",
   "execution_count": null,
   "id": "858477aa",
   "metadata": {},
   "outputs": [],
   "source": [
    "svm = SVC()\n",
    "svm.fit(X,Y)\n",
    "Y_test_SVM = svm.predict(X_test)"
   ]
  },
  {
   "cell_type": "code",
   "execution_count": null,
   "id": "b3aad608",
   "metadata": {},
   "outputs": [],
   "source": [
    "#GENERATING THE CONFUSION MATRIX\n",
    "cf_matrix8 = confusion_matrix(Y_test,Y_test_SVM)\n",
    "print(cf_matrix8)"
   ]
  },
  {
   "cell_type": "code",
   "execution_count": null,
   "id": "ff52a15a",
   "metadata": {},
   "outputs": [],
   "source": [
    "ax = sns.heatmap(cf_matrix8, annot=True, cmap='Blues')\n",
    "\n",
    "ax.set_title('SEABORN CONFUSION MATRIX FOR SVM\\n\\n');\n",
    "ax.set_xlabel('\\nPREDICTED VALUES')\n",
    "ax.set_ylabel('ACTUAL VALUES');\n",
    "\n",
    "## Ticket labels - List must be in alphabetical order\n",
    "ax.xaxis.set_ticklabels(['FALSE','TRUE'])\n",
    "ax.yaxis.set_ticklabels(['FALSE','TRUE'])\n",
    "\n",
    "## Display the visualization of the Confusion Matrix.\n",
    "plt.show()"
   ]
  },
  {
   "cell_type": "code",
   "execution_count": null,
   "id": "ae52312d",
   "metadata": {},
   "outputs": [],
   "source": [
    "# CONFUSIN MATRIX PARAMETERS\n",
    "print(\"SVM MODEL: \\n\")\n",
    "p_svm = precision_score(Y_test,Y_test_SVM)\n",
    "print(\"PRECISION:\",p_svm*100, \"%\")\n",
    "r_svm = recall_score(Y_test,Y_test_SVM)\n",
    "print(\"\\n RECALL:\",r_svm*100, \"%\")\n",
    "f1_svm = f1_score(Y_test,Y_test_SVM)\n",
    "print(\"\\n F1_SCORE:\",f1_svm*100, \"%\")\n",
    "acc_svm = accuracy_score(Y_test,Y_test_SVM)*100\n",
    "print(\"\\n ACCURACY:\",acc_svm,\"%\")"
   ]
  },
  {
   "cell_type": "markdown",
   "id": "2ba19eb1",
   "metadata": {},
   "source": [
    "## STACKED MODEL"
   ]
  },
  {
   "cell_type": "code",
   "execution_count": null,
   "id": "ae551b76",
   "metadata": {},
   "outputs": [],
   "source": [
    "# DEFINING ESTIMATORS\n",
    "estimator_list = [\n",
    "    ('xgb',xgb),\n",
    "('rf',rf),\n",
    "('dt',DT),\n",
    "('knn',KNN),\n",
    "('lr',lr),\n",
    "('nb',nb),\n",
    "('svm',svm)]\n",
    "\n",
    "# Build stack model\n",
    "stack_model = StackingClassifier(\n",
    "    estimators=estimator_list, final_estimator=LogisticRegression()\n",
    ")\n",
    "#TRAIN STACKED MODEL\n",
    "stack_model.fit(X,Y)\n",
    "\n",
    "# Make predictions\n",
    "Y_test_stacked = stack_model.predict(X_test)"
   ]
  },
  {
   "cell_type": "code",
   "execution_count": null,
   "id": "ac6a6a4e",
   "metadata": {},
   "outputs": [],
   "source": [
    "#GENERATING THE CONFUSION MATRIX\n",
    "cf_matrix7 = confusion_matrix(Y_test,Y_test_stacked)\n",
    "print(cf_matrix7)"
   ]
  },
  {
   "cell_type": "code",
   "execution_count": null,
   "id": "0f814f07",
   "metadata": {},
   "outputs": [],
   "source": [
    "ax = sns.heatmap(cf_matrix7, annot=True, cmap='Blues')\n",
    "\n",
    "ax.set_title('SEABORN CONFUSION MATRIX FOR STACKED\\n\\n');\n",
    "ax.set_xlabel('\\nPREDICTED VALUES')\n",
    "ax.set_ylabel('ACTUAL VALUES');\n",
    "\n",
    "## Ticket labels - List must be in alphabetical order\n",
    "ax.xaxis.set_ticklabels(['FALSE','TRUE'])\n",
    "ax.yaxis.set_ticklabels(['FALSE','TRUE'])\n",
    "\n",
    "## Display the visualization of the Confusion Matrix.\n",
    "plt.show()"
   ]
  },
  {
   "cell_type": "code",
   "execution_count": null,
   "id": "bdd09c8a",
   "metadata": {},
   "outputs": [],
   "source": [
    "# CONFUSIN MATRIX PARAMETERS\n",
    "print(\"STACKED MODEL: \\n\")\n",
    "p_stacked = precision_score(Y_test,Y_test_stacked)\n",
    "print(\"PRECISION:\",p_stacked*100, \"%\")\n",
    "r_stacked = recall_score(Y_test,Y_test_stacked)\n",
    "print(\"\\n RECALL:\",r_stacked*100, \"%\")\n",
    "f1_stacked = f1_score(Y_test,Y_test_stacked)\n",
    "print(\"\\n F1_SCORE:\",f1_stacked*100, \"%\")\n",
    "acc_stacked = accuracy_score(Y_test,Y_test_stacked)*100\n",
    "print(\"\\n ACCURACY:\",acc_stacked,\"%\")"
   ]
  },
  {
   "cell_type": "markdown",
   "id": "0bd25b0c",
   "metadata": {},
   "source": [
    "## ALL RESULTS"
   ]
  },
  {
   "cell_type": "code",
   "execution_count": null,
   "id": "f9a56540",
   "metadata": {},
   "outputs": [],
   "source": [
    "acc_test_list = {'NB':acc_nb/100,\n",
    "'XGB':acc_xgb/100,\n",
    "'KNN':acc_knn/100,\n",
    "'DT':acc_dt/100,\n",
    "'RF':acc_rf/100,\n",
    "'ANN':acc_ann/100,\n",
    "'LR':acc_lr/100,\n",
    "'SVM':acc_svm/100,\n",
    "'STACKED':acc_stacked/100}\n",
    "\n",
    "prec_test_list = {'NB':p_nb,\n",
    "'XGB':p_xgb,\n",
    "'KNN':p_knn,\n",
    "'DT':p_dt,\n",
    "'RF':p_rf,\n",
    "'ANN':p_ann,\n",
    "'LR':p_lr,\n",
    "'SVM':p_svm,\n",
    "'STACKED':p_stacked}\n",
    "\n",
    "rec_test_list = {'NB':r_nb,\n",
    "'XGB':r_xgb,\n",
    "'KNN':r_knn,\n",
    "'DT':r_dt,\n",
    "'RF':r_rf,\n",
    "'ANN':r_ann,\n",
    "'LR':r_lr,\n",
    "'SVM':r_svm,\n",
    "'STACKED':r_stacked}\n",
    "\n",
    "f1_test_list = {'NB':f1_nb,\n",
    "'XGB':f1_xgb,\n",
    "'KNN':f1_knn,\n",
    "'DT':f1_dt,\n",
    "'RF':f1_rf,\n",
    "'ANN':f1_ann,\n",
    "'LR':f1_lr,\n",
    "'SVM':f1_svm,\n",
    "'STACKED':f1_stacked}"
   ]
  },
  {
   "cell_type": "code",
   "execution_count": null,
   "id": "f489e5d8",
   "metadata": {},
   "outputs": [],
   "source": [
    "acc_df = pd.DataFrame.from_dict(acc_test_list, orient='index', columns=['ACCURACY'])\n",
    "prec_df = pd.DataFrame.from_dict(prec_test_list, orient='index', columns=['PRECISION'])\n",
    "rec_df = pd.DataFrame.from_dict(rec_test_list, orient='index', columns=['RECALL'])\n",
    "f1_df = pd.DataFrame.from_dict(f1_test_list, orient='index', columns=['F1'])\n",
    "df = pd.concat([acc_df, prec_df, rec_df, f1_df], axis=1)\n",
    "df"
   ]
  }
 ],
 "metadata": {
  "kernelspec": {
   "display_name": "Python 3 (ipykernel)",
   "language": "python",
   "name": "python3"
  },
  "language_info": {
   "codemirror_mode": {
    "name": "ipython",
    "version": 3
   },
   "file_extension": ".py",
   "mimetype": "text/x-python",
   "name": "python",
   "nbconvert_exporter": "python",
   "pygments_lexer": "ipython3",
   "version": "3.8.0"
  }
 },
 "nbformat": 4,
 "nbformat_minor": 5
}
